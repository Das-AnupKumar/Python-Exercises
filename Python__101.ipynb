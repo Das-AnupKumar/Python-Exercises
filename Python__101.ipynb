{
  "nbformat": 4,
  "nbformat_minor": 0,
  "metadata": {
    "colab": {
      "provenance": []
    },
    "kernelspec": {
      "name": "python3",
      "display_name": "Python 3"
    },
    "language_info": {
      "name": "python"
    }
  },
  "cells": [
    {
      "cell_type": "markdown",
      "source": [
        "**Introduce yourself:**\n",
        "**Replace \"Your Name\", 25, \"Bachelor's in Computer Science\", and \"Programming and exploring new technologies\" with your actual information, and run the code to introduce yourself with your education background and hobby using Python!**\n"
      ],
      "metadata": {
        "id": "KuJceMNImRD1"
      }
    },
    {
      "cell_type": "code",
      "source": [
        "# Personal Information\n",
        "name = \"Your Name\"\n",
        "age = 25\n",
        "education_background = \"Bachelor's in Computer Science\"\n",
        "hobby = \"Programming and exploring new technologies\"\n",
        "\n",
        "# Introduction Function\n",
        "def introduce(name, age, education, hobby):\n",
        "    introduction = f\"Hello! I'm {name}, a {age}-year-old with a background in {education}. My hobby is {hobby}.\"\n",
        "    return introduction\n",
        "\n",
        "# Display Introduction\n",
        "print(introduce(name, age, education_background, hobby))\n"
      ],
      "metadata": {
        "colab": {
          "base_uri": "https://localhost:8080/"
        },
        "id": "NBBtmvpjmEKA",
        "outputId": "d66c9cc5-6952-489a-ce29-0779af62f046"
      },
      "execution_count": 23,
      "outputs": [
        {
          "output_type": "stream",
          "name": "stdout",
          "text": [
            "Hello! I'm Your Name, a 25-year-old with a background in Bachelor's in Computer Science. My hobby is Programming and exploring new technologies.\n"
          ]
        }
      ]
    },
    {
      "cell_type": "markdown",
      "source": [
        "**Exercise 1: Hello, World!\n",
        "Write a Python program that prints \"Hello, World!\" to the console.**"
      ],
      "metadata": {
        "id": "MAkIIZ5afo5b"
      }
    },
    {
      "cell_type": "code",
      "source": [
        "print(\"Hello, World!\")"
      ],
      "metadata": {
        "colab": {
          "base_uri": "https://localhost:8080/"
        },
        "id": "oe03cdJ6eRc_",
        "outputId": "d718e551-500a-459b-8105-4324baf3df30"
      },
      "execution_count": 14,
      "outputs": [
        {
          "output_type": "stream",
          "name": "stdout",
          "text": [
            "Hello, World!\n"
          ]
        }
      ]
    },
    {
      "cell_type": "markdown",
      "source": [
        "**Exercise 2: Variables and Data Types:**"
      ],
      "metadata": {
        "id": "EFXaxw1Afzca"
      }
    },
    {
      "cell_type": "code",
      "source": [
        "# Variables and Data Types\n",
        "name = \"John\"\n",
        "age = 25\n",
        "height = 5.9\n",
        "is_student = False\n",
        "\n",
        "# Printing values\n",
        "print(name)\n",
        "print(age)\n",
        "print(height)\n",
        "print(is_student)\n"
      ],
      "metadata": {
        "colab": {
          "base_uri": "https://localhost:8080/"
        },
        "id": "njKCA5J1e3Pz",
        "outputId": "8c148ae3-4baf-48e6-f2c1-ac272319824a"
      },
      "execution_count": 15,
      "outputs": [
        {
          "output_type": "stream",
          "name": "stdout",
          "text": [
            "John\n",
            "25\n",
            "5.9\n",
            "False\n"
          ]
        }
      ]
    },
    {
      "cell_type": "markdown",
      "source": [
        "**Exercise 3: Loops : Print 0 to 4**"
      ],
      "metadata": {
        "id": "kxuPRY0igLoP"
      }
    },
    {
      "cell_type": "code",
      "source": [
        "# For Loop\n",
        "for i in range(5):\n",
        "    print(i)\n",
        "\n",
        "# While Loop\n",
        "counter = 0\n",
        "while counter < 5:\n",
        "    print(counter)\n",
        "    counter += 1\n"
      ],
      "metadata": {
        "colab": {
          "base_uri": "https://localhost:8080/"
        },
        "id": "FWG3blDue8Ap",
        "outputId": "b0cc8a98-182d-4bb3-b862-e9b00e20f043"
      },
      "execution_count": 16,
      "outputs": [
        {
          "output_type": "stream",
          "name": "stdout",
          "text": [
            "0\n",
            "1\n",
            "2\n",
            "3\n",
            "4\n",
            "0\n",
            "1\n",
            "2\n",
            "3\n",
            "4\n"
          ]
        }
      ]
    },
    {
      "cell_type": "markdown",
      "source": [
        "**Exercise 4 : Conditionals: Check if number is positive/Negative/Zero**"
      ],
      "metadata": {
        "id": "Yt6hIaAehJ39"
      }
    },
    {
      "cell_type": "code",
      "source": [
        "# If-else statement\n",
        "num = 10\n",
        "if num > 0:\n",
        "    print(\"Positive\")\n",
        "elif num == 0:\n",
        "    print(\"Zero\")\n",
        "else:\n",
        "    print(\"Negative\")\n"
      ],
      "metadata": {
        "colab": {
          "base_uri": "https://localhost:8080/"
        },
        "id": "aBt5zzCIfBBc",
        "outputId": "baa70e73-57e5-4171-ccba-18e9a825487c"
      },
      "execution_count": 17,
      "outputs": [
        {
          "output_type": "stream",
          "name": "stdout",
          "text": [
            "Positive\n"
          ]
        }
      ]
    },
    {
      "cell_type": "markdown",
      "source": [
        "**Exercise 5: Function**"
      ],
      "metadata": {
        "id": "fVpcoLcCheYs"
      }
    },
    {
      "cell_type": "code",
      "source": [
        "# Functions\n",
        "def greet(name):\n",
        "    print(\"Hello, \" + name + \"!\")\n",
        "\n",
        "greet(\"Alice\")\n"
      ],
      "metadata": {
        "colab": {
          "base_uri": "https://localhost:8080/"
        },
        "id": "Z2i4OOlCfFeJ",
        "outputId": "3973ca1a-1571-4015-daf8-d436d14dbf2a"
      },
      "execution_count": 18,
      "outputs": [
        {
          "output_type": "stream",
          "name": "stdout",
          "text": [
            "Hello, Alice!\n"
          ]
        }
      ]
    },
    {
      "cell_type": "markdown",
      "source": [
        "**Exercise 6: Simple Calculator\n",
        "Create a basic calculator that can add, subtract, multiply, and divide two numbers. Take input from the user.**"
      ],
      "metadata": {
        "id": "8mWO2Ed6iC-C"
      }
    },
    {
      "cell_type": "code",
      "source": [
        "num1 = float(input(\"Enter the first number: \"))\n",
        "num2 = float(input(\"Enter the second number: \"))\n",
        "\n",
        "addition = num1 + num2\n",
        "subtraction = num1 - num2\n",
        "multiplication = num1 * num2\n",
        "division = num1 / num2\n",
        "\n",
        "print(f\"Sum: {addition}\")\n",
        "print(f\"Difference: {subtraction}\")\n",
        "print(f\"Product: {multiplication}\")\n",
        "print(f\"Quotient: {division}\")"
      ],
      "metadata": {
        "colab": {
          "base_uri": "https://localhost:8080/"
        },
        "id": "JB8KpnEqeVU9",
        "outputId": "97eb2251-44da-4608-f56b-f9058098c79b"
      },
      "execution_count": 19,
      "outputs": [
        {
          "output_type": "stream",
          "name": "stdout",
          "text": [
            "Enter the first number: 12\n",
            "Enter the second number: 33\n",
            "Sum: 45.0\n",
            "Difference: -21.0\n",
            "Product: 396.0\n",
            "Quotient: 0.36363636363636365\n"
          ]
        }
      ]
    },
    {
      "cell_type": "markdown",
      "source": [
        "**Exercise 7: Even or Odd\n",
        "Write a program that takes an integer input from the user and prints whether it is even or odd.**"
      ],
      "metadata": {
        "id": "PweGs2-8gVYX"
      }
    },
    {
      "cell_type": "code",
      "source": [
        "num = int(input(\"Enter an integer: \"))\n",
        "\n",
        "if num % 2 == 0:\n",
        "    print(f\"{num} is even.\")\n",
        "else:\n",
        "    print(f\"{num} is odd.\")\n"
      ],
      "metadata": {
        "colab": {
          "base_uri": "https://localhost:8080/"
        },
        "id": "lEW4kRIUeYX2",
        "outputId": "1e2d7676-abb2-4779-d746-bf8c365a8f1f"
      },
      "execution_count": 20,
      "outputs": [
        {
          "output_type": "stream",
          "name": "stdout",
          "text": [
            "Enter an integer: 2\n",
            "2 is even.\n"
          ]
        }
      ]
    },
    {
      "cell_type": "markdown",
      "source": [
        " **Exercise 8: Sum of Natural Numbers The sum of natural numbers formula is: S = [n(n+1)]/2**"
      ],
      "metadata": {
        "id": "R6sarUopi9xj"
      }
    },
    {
      "cell_type": "code",
      "source": [
        "# Sum of Natural Numbers\n",
        "def sum_of_natural_numbers(n):\n",
        "    return n * (n + 1) // 2\n",
        "\n",
        "number = int(input(\"Enter a positive integer: \"))\n",
        "result = sum_of_natural_numbers(number)\n",
        "print(f\"Sum of the first {number} natural numbers: {result}\")\n"
      ],
      "metadata": {
        "colab": {
          "base_uri": "https://localhost:8080/"
        },
        "id": "oM1fuWgKenRR",
        "outputId": "8279116b-809b-4adf-936e-8a170240b422"
      },
      "execution_count": 21,
      "outputs": [
        {
          "output_type": "stream",
          "name": "stdout",
          "text": [
            "Enter a positive integer: 22\n",
            "Sum of the first 22 natural numbers: 253\n"
          ]
        }
      ]
    },
    {
      "cell_type": "markdown",
      "source": [
        "**Exercise 9: Mean (Average) Calculation:**"
      ],
      "metadata": {
        "id": "gQtJocOnj8qU"
      }
    },
    {
      "cell_type": "code",
      "source": [
        "# Mean Calculation\n",
        "def calculate_mean(numbers):\n",
        "    return sum(numbers) / len(numbers)\n",
        "\n",
        "data = [10, 15, 20, 25, 30]\n",
        "mean_result = calculate_mean(data)\n",
        "print(f\"Mean: {mean_result}\")\n"
      ],
      "metadata": {
        "colab": {
          "base_uri": "https://localhost:8080/"
        },
        "id": "kce9JrsDjkwR",
        "outputId": "93fcf176-6493-4cf0-eeb4-660c3bf0c57c"
      },
      "execution_count": 22,
      "outputs": [
        {
          "output_type": "stream",
          "name": "stdout",
          "text": [
            "Mean: 20.0\n"
          ]
        }
      ]
    },
    {
      "cell_type": "code",
      "source": [],
      "metadata": {
        "id": "uAbj22D5lFn4"
      },
      "execution_count": 22,
      "outputs": []
    }
  ]
}